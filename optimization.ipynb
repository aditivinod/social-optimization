{
 "cells": [
  {
   "attachments": {},
   "cell_type": "markdown",
   "metadata": {},
   "source": [
    "# 1.0 Using NashPy"
   ]
  },
  {
   "cell_type": "code",
   "execution_count": 41,
   "metadata": {},
   "outputs": [
    {
     "name": "stdout",
     "output_type": "stream",
     "text": [
      "Bi matrix game with payoff matrices:\n",
      "\n",
      "Row player:\n",
      "[[0 4]\n",
      " [1 3]]\n",
      "\n",
      "Column player:\n",
      "[[0 1]\n",
      " [4 3]]\n",
      "\n",
      "(array([1., 0.]), array([0., 1.]))\n",
      "\n",
      "(array([1., 0.]), array([0., 1.]))\n",
      "(array([0., 1.]), array([1., 0.]))\n",
      "(array([0., 1.]), array([1., 0.]))\n",
      "(array([1., 0.]), array([0., 1.]))\n"
     ]
    }
   ],
   "source": [
    "import nashpy as nash\n",
    "import numpy as np\n",
    "\n",
    "# Payoff matrix for toy example\n",
    "A = np.array([[0,4],[1,3]]) # A is first digit in overall matrix\n",
    "B = np.array([[0,1],[4,3]]) # B is second digit in overall matrix\n",
    "toy = nash.Game(A,B)\n",
    "\n",
    "print(str(toy)+\"\\n\")\n",
    "\n",
    "# Finds first Nash with Lemke-Howson\n",
    "lh = toy.lemke_howson(initial_dropped_label=0)\n",
    "print(str(lh)+\"\\n\")\n",
    "\n",
    "# Prints out labels at various stages\n",
    "equilibria = toy.lemke_howson_enumeration()\n",
    "for eq in equilibria:\n",
    "    print(eq)\n",
    "\n",
    "# [1, 0], [0, 1] = top, right\n",
    "# [0, 1], [1, 0] = bottom, left"
   ]
  }
 ],
 "metadata": {
  "kernelspec": {
   "display_name": "base",
   "language": "python",
   "name": "python3"
  },
  "language_info": {
   "codemirror_mode": {
    "name": "ipython",
    "version": 3
   },
   "file_extension": ".py",
   "mimetype": "text/x-python",
   "name": "python",
   "nbconvert_exporter": "python",
   "pygments_lexer": "ipython3",
   "version": "3.10.9"
  },
  "orig_nbformat": 4
 },
 "nbformat": 4,
 "nbformat_minor": 2
}
